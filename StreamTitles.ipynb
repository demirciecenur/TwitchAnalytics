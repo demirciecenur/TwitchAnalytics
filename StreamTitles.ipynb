{
 "cells": [
  {
   "cell_type": "code",
   "execution_count": 1,
   "metadata": {},
   "outputs": [],
   "source": [
    "import pandas as pd \n",
    "import pymysql\n",
    "from datetime import datetime\n",
    "from datetime import timedelta\n",
    "import plotly.express as px\n",
    "from RDS_connection import db, user, password\n",
    "from mod_streamer_data import add_local_time, crop_timeframe, get_streams\n",
    "from datetime import datetime\n",
    "from dateutil import tz\n",
    "import nltk\n",
    "from nltk.tokenize import word_tokenize\n",
    "import numpy as np"
   ]
  },
  {
   "cell_type": "code",
   "execution_count": 2,
   "metadata": {},
   "outputs": [
    {
     "name": "stderr",
     "output_type": "stream",
     "text": [
      "[nltk_data] Downloading package punkt to\n",
      "[nltk_data]     C:\\Users\\leesc\\AppData\\Roaming\\nltk_data...\n",
      "[nltk_data]   Package punkt is already up-to-date!\n"
     ]
    },
    {
     "data": {
      "text/plain": [
       "True"
      ]
     },
     "execution_count": 2,
     "metadata": {},
     "output_type": "execute_result"
    }
   ],
   "source": [
    "nltk.download('punkt')"
   ]
  },
  {
   "cell_type": "code",
   "execution_count": 3,
   "metadata": {},
   "outputs": [
    {
     "name": "stderr",
     "output_type": "stream",
     "text": [
      "[nltk_data] Downloading package stopwords to\n",
      "[nltk_data]     C:\\Users\\leesc\\AppData\\Roaming\\nltk_data...\n",
      "[nltk_data]   Package stopwords is already up-to-date!\n"
     ]
    },
    {
     "data": {
      "text/plain": [
       "True"
      ]
     },
     "execution_count": 3,
     "metadata": {},
     "output_type": "execute_result"
    }
   ],
   "source": [
    "nltk.download('stopwords')"
   ]
  },
  {
   "cell_type": "code",
   "execution_count": 4,
   "metadata": {},
   "outputs": [],
   "source": [
    "db = pymysql.connect(db, user, password)\n",
    "cursor = db.cursor()\n",
    "\n",
    "sql = '''use Streams'''\n",
    "cursor.execute(sql)\n",
    "\n",
    "query = '''\n",
    "SELECT * FROM Streams\n",
    "'''\n",
    "\n",
    "df = pd.read_sql(query, db, index_col='ID')\n",
    "\n",
    "#always run this after use\n",
    "db.commit()\n",
    "cursor.close()\n",
    "db.close()"
   ]
  },
  {
   "cell_type": "code",
   "execution_count": 5,
   "metadata": {},
   "outputs": [],
   "source": [
    "def count_freq(word, freq):\n",
    "    for w in word:\n",
    "        if w in list(freq.keys()):\n",
    "            freq[w] += 1\n",
    "        else:\n",
    "            freq[w] = 1\n",
    "    return freq"
   ]
  },
  {
   "cell_type": "code",
   "execution_count": 6,
   "metadata": {},
   "outputs": [],
   "source": [
    "def add_local_time(streamer_data, cols):\n",
    "    '''\n",
    "    input: dataframe of streamer data, list of columns to be converted in utc time\n",
    "    function: adds local timezone to dataframe as new column named f'{col}_toLocal'\n",
    "    '''\n",
    "    from datetime import datetime\n",
    "    from dateutil import tz\n",
    "\n",
    "    from_zone = tz.tzutc()\n",
    "    to_zone = tz.tzlocal()\n",
    "\n",
    "    #convert to local time\n",
    "    for col in cols:\n",
    "        converted_times = []\n",
    "        for i in range(len(streamer_data)):\n",
    "            utc = datetime.strptime(streamer_data[col].iloc[i], '%Y-%m-%d %H:%M:%S')\n",
    "            utc = utc.replace(tzinfo=from_zone)\n",
    "            central = utc.astimezone(to_zone)\n",
    "            converted_times.append(central)\n",
    "            \n",
    "        streamer_data[f'{col}_toLocal'] = converted_times\n",
    "    \n",
    "    return streamer_data"
   ]
  },
  {
   "cell_type": "code",
   "execution_count": 14,
   "metadata": {},
   "outputs": [],
   "source": [
    "name = 'scoped'\n",
    "start_date = '2020-10-16 00:00:00'\n",
    "end_date = '2020-11-1 00:00:00'\n",
    "\n",
    "streamer_data = df[df['Name'] == name]"
   ]
  },
  {
   "cell_type": "code",
   "execution_count": 15,
   "metadata": {},
   "outputs": [
    {
     "name": "stdout",
     "output_type": "stream",
     "text": [
      "Arena Trios | 30% off subs\n",
      "Chipotle Tourney | 30% off subs \n",
      "Chipotle Tourney (west) | 30% off subs\n",
      "Trio Scrims | 30% off subs\n",
      "Pro Trio Scrims with Sentinels Highsky and A1 Tuexy | 30% off subs\n",
      "Arab Trio Scrims with Sentinels Highsky and A1 Tuexy | 30% off subs\n",
      "Pro Trio Scrims | 30% off subs\n",
      "FNCS Warmup | 30% off subs\n",
      "FNCS Semis | 30% off subs\n",
      "High Kill Arena Solos | 30% off subs\n",
      "Trio Arena w/ Co1azo & Tahi | 30% off subs\n",
      "Arena Solos | 30% off subs\n",
      "Arena Trios w/ Ceice & Blake | 30% off subs\n",
      "Arena Solos | 30% off subs\n",
      "Arena Solos into Scrims | 30% off subs\n",
      "Warming up for trio scrims | 30% off subs\n",
      "Pro Trio Scrims with Sen Highsky and Tuexy | 30% off subs\n",
      "Pro Trio Scrims with Sentinels Highsky and A1 Tuexy | 30% off subs\n",
      "Pro Trio Scrims with Sentinels Highsky and Tuexy | 30% off subs\n",
      "Pro Trio Scrims with Sentinels Highsky and Tuexy | 30% off subs\n",
      "2v2 Wagers with Tuexy \n",
      "2v2 Wagers with Tuexy \n",
      "2v2 ZW Wagers with Tuexy (CLOSED)\n",
      "Pro Trio Scrims\n",
      "Pro Trio Scrims with Sentinels Highsky and Tuexy | Last day of \n",
      "3v3 wagers ($15 min) Send money to Highsky | Last day of \n",
      "3v3 wagers ($15 min) Send money to Sentinels Highsky \n",
      "3v3 wagers (CLOSED) \n",
      "3v3 wagers (CLOSED) into Late Night Elite Trio Scrimages \n",
      "Pro Trio Scrims\n",
      "Pro Trio Scrims with Sentinels Highsky and Tuexy \n",
      "Pro Trio Scrims with Sentinels Highsky and Tuexy \n",
      "High Kill Solo Arena into Late Night Elite Trio Scrims\n",
      "Pro Trio Scrims\n",
      "Pro Trio Scrims with Sen Highsky and Tuexy \n",
      "Solo Arena\n",
      "WL Trio Tourney\n",
      "100K War Legend Tourny with Tuexy and Sentinles Highsky\n",
      "Ninja Battles\n",
      "Ninja Battles with Sentinels Highsky and Tuexy \n",
      "Pro Trio Scrims\n",
      "Pro Trio Scrims with Sentinels Highsky and Tuexy | \n",
      "Pro Trio Scrims with Sentinels Highsky and Tuexy | \n",
      "Solo Cash Cup\n",
      "Solo Cash Cup | \n",
      "Solo Cash Cup | \n",
      "Arena Solos Vibing\n",
      "Ninja Battles\n",
      "Ninja Battles | \n",
      "Ninja Battles with Sentinels Highsky and Tuexy | \n",
      "Trio Cash Cup\n",
      "Arena Solos, Trio Scrims Later?\n",
      "Trio Arena, Trio Scrims Later?\n",
      "Pro Trio Scrims \n",
      "Pro Trio Scrims with Sentinels Highsky and Tuexy \n",
      "Arena Solos \n",
      "2v2 Wagers ($5 each minimum) OPEN \n",
      ": 2v2 ZW Wagers ($5 each minimum) OPEN \n",
      "2v2 ZW Wagers ($5 each minimum) OPEN \n",
      "2v2 ZW Wagers CLOSED \n",
      "Arena Solos Into Trio Scrims\n",
      "Pro Trio Scrims with Sentinels Highsky and Tuexy \n",
      "Pro Trio Scrims with Highsky Szn and Tuexy \n",
      "Pro Trio Scrims with Highsky Szn and Tuexy \n",
      "Trio Arena with Highsky and Tuexy\n",
      "High Kill Solo Arena | \n",
      "West Dreamhack Viewing Party | \n",
      "(OPEN) 2v2 Wagers w/ Tuexy | \n",
      "(CLOSED) 2v2 Wagers w/ Tuexy | \n",
      "(OPEN) 2v2 Wagers w/ Tuexy | \n",
      "(CLOSED) 2v2 Wagers w/ Tuexy | \n",
      "Arena Solos \n",
      "Trio FNCS (1 MIN DELAY)\n",
      "Solo Dreamhack\n",
      "Solo Dreamhack\n",
      "Creative with Colazo until Heat 2 Dreamhack | Code \"Scoped\" For 5% off SCUF Products\n",
      "PGing until coaching Co1azo for Heat 2 Dreamhack | \n",
      "Coaching Co1azo for Heat 2 Dreamhack | \n",
      "Coaching Co1azo for Heat 2 Dreamhack  (Already Qualified)| \n",
      "Elite Esports Cup| \n",
      "Elite Scrims | \n",
      "[OPEN] 3v3 Wagers w/ Tuexy & Highsky ($15 min) \n",
      "[CLOSED] 3v3 Wagers w/ Tuexy & Highsky \n",
      "Fortnite [OPEN] 3v3 Wagers w/ Tuexy & Highsky \n",
      "Arena Solos into Trio Scrims\n",
      "Late Night Trio Scrims \n",
      "Arena Solos\n",
      "Trio Arena with Tuexy & Inno \n",
      "Warming Up For Pro Trio Scrims \n",
      "Pro Trio Scrims w/ Highsky & Nosh (filling for Tuexy) | \n",
      "Pro Trio Scrims w/ Highsky & Xasma (filling for Tuexy) | \n",
      "Pro Trio Scrims w/ Highsky & Simple (filling for Tuexy) | \n",
      "Arena Solos | \n",
      "DreamHack Semis  | \n",
      "Waiting for DreamHack Finals | \n",
      "Waiting for DreamHack Finals @9 PM EST (Qualified) | \n",
      "DreamHack Finals\n",
      "FNCS OPENS W/ HIGHSKYSZN AND TUEXY (Winners Pov)\n",
      "Solo Cash Cup\n",
      "Solo Cash Cup\n",
      "Trio Arena with Tahi and Co1azo \n",
      "Trio Scrims With Highsky and Tuexy \n",
      "Arab Trio Scrims w/ Highsky & Tuexy \n",
      "Late Night Arena Solos\n",
      "Late Night Vibes \n",
      "Creative w/ Tuexy until downtime\n",
      "Tiktoks w/ chat until new update\n",
      "Watching Youtube w/ Chat until Update\n",
      "Playing New Update\n",
      "New Update Trio Arena w/ Emad and Commandment\n",
      "High Kill Arena Solos Into Trio Scrims \n",
      "High Kill Arena Trios into Trio Scrims at 9 est \n",
      "Trio Scrims w/ Lil Tuexy & Sen Highsky \n",
      "Trio Scrims w/ Tuexy & Highsky \n",
      "[OPEN] 3v3 Wagers w/ Tuexy & Highsky ($5 each min) \n",
      "[CLOSED] 3v3 Wagers w/ Tuexy & Highsky\n",
      "[OPEN] 3v3 Wagers w/ Tuexy & Highsky ($5 each min) \n",
      "[CLOSED] 3v3 Wagers w/ Tuexy & Highsky\n",
      "Trio Test Event\n",
      "Trio Test Event (Scrims)\n",
      "[OPEN] 3v3 Wagers w/ Tuexy and Highsky ($5 each min) \n",
      "[CLOSED] 3v3 Wagers w/ Tuexy and Highsky\n",
      "[CLOSED] 3v3 Wagers w/ Tuexy & Okote \n",
      "[OPEN] 3v3 Wagers w/ Tuexy & Okote \n",
      "[OPEN] 3v3 Wagers w/ Tuexy & Okote ($5 each min) \n",
      "[CLOSED] 3v3 Wagers w/ Tuexy & Okote\n",
      "Late Night Trio Scrims w/ Tuexy & Highsky\n",
      "Late Night Trio Scrims w/ Tuexy & Highsky \n",
      "[OPEN] 2v2 Wagers w/ Tuexy ($5 each min) \n",
      "[CLOSED] 2v2 Wagers w/ Tuexy\n",
      "[CLOSED] 2v2 Wagers w/ Tuexy \n",
      "[OPEN] 2v2 Wagers w/ Tuexy ($5 each min) \n",
      "[CLOSED] 2v2 Wagers w/ Tuexy ($5 each min) \n",
      "FNCS Opens\n",
      "FNCS Opens \n",
      "FNCS Opens \n",
      "FNCS Week 3 Opens w/ Tuexy and Highsky \n",
      "$100 BF Wager VS Highsky\n",
      "[OPEN] 2v2 Wagers w/ Tuexy \n",
      "[CLOSED] 2v2 Wagers w/ Tuexy \n",
      "[CLOSED] 2v2 Wagers w/ Tuexy \n",
      "[CLOSED] 2v2 Wagers w/ Tuexy \n",
      "Solo Cash Cup (winners Pov) \n",
      "Solo Cash Cup \n",
      "2v2 ZW Wagers w/ Tuexy ($5 each min) \n",
      "[OPEN] 2v2 ZW Wagers w/ Tuexy ($5 each min) \n",
      "Trio Cash Cup with Highsky and Tuexy \n",
      "Trio Cash Cup\n",
      "Trio Cash Cup with Highsky and Tuexy \n",
      "Trio Cash Cup with Highsky and Tuexy \n",
      "Trio Cash Cup w/ Highsky & Tuexy \n",
      "Duo Arena w/ Tuexy\n",
      "Duo Arena w/ Tuexy\n",
      "Duo Arena w/ Tuexy \n",
      "Trio Arena \n",
      "Arab Trio Scrims \n",
      "Arab Trio Scrims \n",
      "High Kill Arena Solos \n",
      "Late Night Trio Arena W/ INNO and Nate\n",
      "Late Night Solo Arena\n",
      "FNCS FINALS VIEWING PARTY\n",
      "FNCS FINALS VIEWING PARTY \n",
      "Duo Arena w/ Tuexy \n",
      "[OPEN] 2v2 ZW Wagers w/ Tuexy ($5 min each) \n",
      "[CLOSED] 2v2 ZW Wagers w/ Tuexy ($5 min each) \n",
      "[OPEN] 2v2 ZW Wagers w/ Tuexy ($5 min each) \n",
      "[CLOSED] 2v2 ZW Wagers w/ Tuexy ($5 min each) \n",
      "Cheech trio customs with inno and tuexy (\n",
      "Cheech Trio Customs w/ Tuexy & Inno \n",
      "Trio Arena w/ Inno and Tuexy \n",
      "Scary Escape Room with Tuexy and Inno\n",
      "Scary Escape Room w/ Inno & Tuexy ??\n",
      "Creative Games w/ Inno and Tuexy\n",
      "Bot Race w/ Tuexy vs Rat & Vercetti \n",
      "Bot Race w/ Vercetti vs Rat & Tuexy \n",
      "$100 2v2 Botrace\n",
      "$200 2v2 Bot Race\n",
      "$100 2v2 Bot Race\n",
      "$200 2v2 Bot Race\n"
     ]
    }
   ],
   "source": [
    "import string\n",
    "from nltk.corpus import stopwords\n",
    "table = str.maketrans(dict.fromkeys(string.punctuation))\n",
    "freq = {}\n",
    "for i in range(1,len(streamer_data)):\n",
    "    if streamer_data['StreamTitle'].iloc[i-1] != streamer_data['StreamTitle'].iloc[i]:\n",
    "        title = streamer_data['StreamTitle'].iloc[i]\n",
    "        #remove tags\n",
    "        title = title.split('!')[0]\n",
    "        print(title)\n",
    "        title = title.translate(table)\n",
    "        title = title.lower()\n",
    "        title = word_tokenize(title)\n",
    "        title = [word for word in title if not word in stopwords.words()]\n",
    "        \n",
    "        freq = count_freq(title,freq=freq)\n",
    "        \n",
    "sorted_freq = {k: v for k, v in sorted(freq.items(), key=lambda item: item[1], reverse=True)}\n",
    "\n",
    "pop = []\n",
    "for key in sorted_freq.keys():\n",
    "    if len(key) < 3:\n",
    "        pop.append(key)\n",
    "for key in pop:\n",
    "    sorted_freq.pop(key)"
   ]
  },
  {
   "cell_type": "code",
   "execution_count": 16,
   "metadata": {},
   "outputs": [],
   "source": [
    "top_n_keywords = 25"
   ]
  },
  {
   "cell_type": "code",
   "execution_count": 17,
   "metadata": {},
   "outputs": [
    {
     "data": {
      "text/html": [
       "<div>\n",
       "<style scoped>\n",
       "    .dataframe tbody tr th:only-of-type {\n",
       "        vertical-align: middle;\n",
       "    }\n",
       "\n",
       "    .dataframe tbody tr th {\n",
       "        vertical-align: top;\n",
       "    }\n",
       "\n",
       "    .dataframe thead th {\n",
       "        text-align: right;\n",
       "    }\n",
       "</style>\n",
       "<table border=\"1\" class=\"dataframe\">\n",
       "  <thead>\n",
       "    <tr style=\"text-align: right;\">\n",
       "      <th></th>\n",
       "      <th>Name</th>\n",
       "      <th>TimestampUTC</th>\n",
       "      <th>CurrentGameID</th>\n",
       "      <th>StreamTitle</th>\n",
       "      <th>ViewerCount</th>\n",
       "      <th>StarttimeUTC</th>\n",
       "    </tr>\n",
       "    <tr>\n",
       "      <th>ID</th>\n",
       "      <th></th>\n",
       "      <th></th>\n",
       "      <th></th>\n",
       "      <th></th>\n",
       "      <th></th>\n",
       "      <th></th>\n",
       "    </tr>\n",
       "  </thead>\n",
       "  <tbody>\n",
       "    <tr>\n",
       "      <th>6829</th>\n",
       "      <td>scoped</td>\n",
       "      <td>2020-09-24 22:05:03</td>\n",
       "      <td>33214</td>\n",
       "      <td>Trio Chipotle Tourney | 30% off subs! !subtemb...</td>\n",
       "      <td>689</td>\n",
       "      <td>2020-09-24 22:00:55</td>\n",
       "    </tr>\n",
       "    <tr>\n",
       "      <th>7138</th>\n",
       "      <td>scoped</td>\n",
       "      <td>2020-09-24 22:10:03</td>\n",
       "      <td>33214</td>\n",
       "      <td>Trio Chipotle Tourney | 30% off subs! !subtemb...</td>\n",
       "      <td>2840</td>\n",
       "      <td>2020-09-24 22:00:55</td>\n",
       "    </tr>\n",
       "    <tr>\n",
       "      <th>7448</th>\n",
       "      <td>scoped</td>\n",
       "      <td>2020-09-24 22:15:03</td>\n",
       "      <td>33214</td>\n",
       "      <td>Trio Chipotle Tourney | 30% off subs! !subtemb...</td>\n",
       "      <td>4065</td>\n",
       "      <td>2020-09-24 22:00:55</td>\n",
       "    </tr>\n",
       "    <tr>\n",
       "      <th>7758</th>\n",
       "      <td>scoped</td>\n",
       "      <td>2020-09-24 22:20:03</td>\n",
       "      <td>33214</td>\n",
       "      <td>Trio Chipotle Tourney | 30% off subs! !subtemb...</td>\n",
       "      <td>4621</td>\n",
       "      <td>2020-09-24 22:00:55</td>\n",
       "    </tr>\n",
       "    <tr>\n",
       "      <th>8066</th>\n",
       "      <td>scoped</td>\n",
       "      <td>2020-09-24 22:25:03</td>\n",
       "      <td>33214</td>\n",
       "      <td>Trio Chipotle Tourney | 30% off subs! !subtemb...</td>\n",
       "      <td>5043</td>\n",
       "      <td>2020-09-24 22:00:55</td>\n",
       "    </tr>\n",
       "    <tr>\n",
       "      <th>...</th>\n",
       "      <td>...</td>\n",
       "      <td>...</td>\n",
       "      <td>...</td>\n",
       "      <td>...</td>\n",
       "      <td>...</td>\n",
       "      <td>...</td>\n",
       "    </tr>\n",
       "    <tr>\n",
       "      <th>2780003</th>\n",
       "      <td>scoped</td>\n",
       "      <td>2020-11-02 09:25:03</td>\n",
       "      <td>33214</td>\n",
       "      <td>$200 2v2 Bot Race</td>\n",
       "      <td>4643</td>\n",
       "      <td>2020-11-01 22:40:15</td>\n",
       "    </tr>\n",
       "    <tr>\n",
       "      <th>2780177</th>\n",
       "      <td>scoped</td>\n",
       "      <td>2020-11-02 09:30:03</td>\n",
       "      <td>33214</td>\n",
       "      <td>$200 2v2 Bot Race</td>\n",
       "      <td>4764</td>\n",
       "      <td>2020-11-01 22:40:15</td>\n",
       "    </tr>\n",
       "    <tr>\n",
       "      <th>2780352</th>\n",
       "      <td>scoped</td>\n",
       "      <td>2020-11-02 09:35:03</td>\n",
       "      <td>33214</td>\n",
       "      <td>$200 2v2 Bot Race</td>\n",
       "      <td>4909</td>\n",
       "      <td>2020-11-01 22:40:15</td>\n",
       "    </tr>\n",
       "    <tr>\n",
       "      <th>2780528</th>\n",
       "      <td>scoped</td>\n",
       "      <td>2020-11-02 09:40:03</td>\n",
       "      <td>33214</td>\n",
       "      <td>$200 2v2 Bot Race</td>\n",
       "      <td>5067</td>\n",
       "      <td>2020-11-01 22:40:15</td>\n",
       "    </tr>\n",
       "    <tr>\n",
       "      <th>2780708</th>\n",
       "      <td>scoped</td>\n",
       "      <td>2020-11-02 09:45:03</td>\n",
       "      <td>33214</td>\n",
       "      <td>$200 2v2 Bot Race</td>\n",
       "      <td>5581</td>\n",
       "      <td>2020-11-01 22:40:15</td>\n",
       "    </tr>\n",
       "  </tbody>\n",
       "</table>\n",
       "<p>2026 rows × 6 columns</p>\n",
       "</div>"
      ],
      "text/plain": [
       "           Name         TimestampUTC CurrentGameID  \\\n",
       "ID                                                   \n",
       "6829     scoped  2020-09-24 22:05:03         33214   \n",
       "7138     scoped  2020-09-24 22:10:03         33214   \n",
       "7448     scoped  2020-09-24 22:15:03         33214   \n",
       "7758     scoped  2020-09-24 22:20:03         33214   \n",
       "8066     scoped  2020-09-24 22:25:03         33214   \n",
       "...         ...                  ...           ...   \n",
       "2780003  scoped  2020-11-02 09:25:03         33214   \n",
       "2780177  scoped  2020-11-02 09:30:03         33214   \n",
       "2780352  scoped  2020-11-02 09:35:03         33214   \n",
       "2780528  scoped  2020-11-02 09:40:03         33214   \n",
       "2780708  scoped  2020-11-02 09:45:03         33214   \n",
       "\n",
       "                                               StreamTitle  ViewerCount  \\\n",
       "ID                                                                        \n",
       "6829     Trio Chipotle Tourney | 30% off subs! !subtemb...          689   \n",
       "7138     Trio Chipotle Tourney | 30% off subs! !subtemb...         2840   \n",
       "7448     Trio Chipotle Tourney | 30% off subs! !subtemb...         4065   \n",
       "7758     Trio Chipotle Tourney | 30% off subs! !subtemb...         4621   \n",
       "8066     Trio Chipotle Tourney | 30% off subs! !subtemb...         5043   \n",
       "...                                                    ...          ...   \n",
       "2780003                                  $200 2v2 Bot Race         4643   \n",
       "2780177                                  $200 2v2 Bot Race         4764   \n",
       "2780352                                  $200 2v2 Bot Race         4909   \n",
       "2780528                                  $200 2v2 Bot Race         5067   \n",
       "2780708                                  $200 2v2 Bot Race         5581   \n",
       "\n",
       "                StarttimeUTC  \n",
       "ID                            \n",
       "6829     2020-09-24 22:00:55  \n",
       "7138     2020-09-24 22:00:55  \n",
       "7448     2020-09-24 22:00:55  \n",
       "7758     2020-09-24 22:00:55  \n",
       "8066     2020-09-24 22:00:55  \n",
       "...                      ...  \n",
       "2780003  2020-11-01 22:40:15  \n",
       "2780177  2020-11-01 22:40:15  \n",
       "2780352  2020-11-01 22:40:15  \n",
       "2780528  2020-11-01 22:40:15  \n",
       "2780708  2020-11-01 22:40:15  \n",
       "\n",
       "[2026 rows x 6 columns]"
      ]
     },
     "execution_count": 17,
     "metadata": {},
     "output_type": "execute_result"
    }
   ],
   "source": [
    "streamer_data"
   ]
  },
  {
   "cell_type": "code",
   "execution_count": 18,
   "metadata": {},
   "outputs": [],
   "source": [
    "counts_per_word = {}\n",
    "for key in list(sorted_freq.keys())[:top_n_keywords]:\n",
    "    counts_per_word[key] = []\n",
    "    for i in range(len(streamer_data)):\n",
    "        if (streamer_data['StreamTitle'].iloc[i].split('!')[0].translate(table).lower().find(key) != -1): # if key is substring\n",
    "            counts_per_word[key].append(streamer_data['ViewerCount'].iloc[i])\n",
    "for key in counts_per_word.keys():\n",
    "    counts_per_word[key] = np.mean(counts_per_word[key])\n",
    "    \n",
    "counts_per_word = {k: v for k, v in sorted(counts_per_word.items(), key=lambda item: item[1], reverse=True)}"
   ]
  },
  {
   "cell_type": "code",
   "execution_count": 19,
   "metadata": {},
   "outputs": [
    {
     "data": {
      "text/plain": [
       "{'dreamhack': 6438.443037974684,\n",
       " 'kill': 5652.767441860465,\n",
       " 'pro': 5463.651810584958,\n",
       " 'cash': 5394.939189189189,\n",
       " 'sentinels': 5352.472727272727,\n",
       " 'solo': 5346.892720306513,\n",
       " 'subs': 5272.948484848484,\n",
       " 'cup': 5258.3298429319375,\n",
       " 'scrims': 5243.4301994301995,\n",
       " 'trio': 5134.09842519685,\n",
       " 'late': 5052.418181818181,\n",
       " 'high': 5047.51,\n",
       " 'night': 5037.9098360655735,\n",
       " 'highsky': 5013.1294583883755,\n",
       " 'arena': 4886.41469816273,\n",
       " 'tuexy': 4736.462474645031,\n",
       " 'inno': 4594.903225806452,\n",
       " 'fncs': 4570.075,\n",
       " 'solos': 4347.966666666666,\n",
       " 'open': 4122.861842105263,\n",
       " '3v3': 4091.9655172413795,\n",
       " 'co1azo': 4065.9646017699115,\n",
       " 'wagers': 3891.8210116731516,\n",
       " 'closed': 3876.8571428571427,\n",
       " '2v2': 3839.882716049383}"
      ]
     },
     "execution_count": 19,
     "metadata": {},
     "output_type": "execute_result"
    }
   ],
   "source": [
    "counts_per_word"
   ]
  },
  {
   "cell_type": "code",
   "execution_count": 21,
   "metadata": {},
   "outputs": [
    {
     "data": {
      "application/vnd.plotly.v1+json": {
       "config": {
        "plotlyServerURL": "https://plot.ly"
       },
       "data": [
        {
         "alignmentgroup": "True",
         "hovertemplate": "Category=%{x}<br>Avg_Viewership=%{y}<extra></extra>",
         "legendgroup": "",
         "marker": {
          "color": "#636efa"
         },
         "name": "",
         "offsetgroup": "",
         "orientation": "v",
         "showlegend": false,
         "textposition": "auto",
         "type": "bar",
         "x": [
          "dreamhack",
          "kill",
          "pro",
          "cash",
          "sentinels",
          "solo",
          "subs",
          "cup",
          "scrims",
          "trio",
          "late",
          "high",
          "night",
          "highsky",
          "arena",
          "tuexy",
          "inno",
          "fncs",
          "solos",
          "open",
          "3v3",
          "co1azo",
          "wagers",
          "closed",
          "2v2"
         ],
         "xaxis": "x",
         "y": [
          6438.443037974684,
          5652.767441860465,
          5463.651810584958,
          5394.939189189189,
          5352.472727272727,
          5346.892720306513,
          5272.948484848484,
          5258.3298429319375,
          5243.4301994301995,
          5134.09842519685,
          5052.418181818181,
          5047.51,
          5037.9098360655735,
          5013.1294583883755,
          4886.41469816273,
          4736.462474645031,
          4594.903225806452,
          4570.075,
          4347.966666666666,
          4122.861842105263,
          4091.9655172413795,
          4065.9646017699115,
          3891.8210116731516,
          3876.8571428571427,
          3839.882716049383
         ],
         "yaxis": "y"
        }
       ],
       "layout": {
        "barmode": "relative",
        "legend": {
         "tracegroupgap": 0
        },
        "template": {
         "data": {
          "bar": [
           {
            "error_x": {
             "color": "#2a3f5f"
            },
            "error_y": {
             "color": "#2a3f5f"
            },
            "marker": {
             "line": {
              "color": "#E5ECF6",
              "width": 0.5
             }
            },
            "type": "bar"
           }
          ],
          "barpolar": [
           {
            "marker": {
             "line": {
              "color": "#E5ECF6",
              "width": 0.5
             }
            },
            "type": "barpolar"
           }
          ],
          "carpet": [
           {
            "aaxis": {
             "endlinecolor": "#2a3f5f",
             "gridcolor": "white",
             "linecolor": "white",
             "minorgridcolor": "white",
             "startlinecolor": "#2a3f5f"
            },
            "baxis": {
             "endlinecolor": "#2a3f5f",
             "gridcolor": "white",
             "linecolor": "white",
             "minorgridcolor": "white",
             "startlinecolor": "#2a3f5f"
            },
            "type": "carpet"
           }
          ],
          "choropleth": [
           {
            "colorbar": {
             "outlinewidth": 0,
             "ticks": ""
            },
            "type": "choropleth"
           }
          ],
          "contour": [
           {
            "colorbar": {
             "outlinewidth": 0,
             "ticks": ""
            },
            "colorscale": [
             [
              0,
              "#0d0887"
             ],
             [
              0.1111111111111111,
              "#46039f"
             ],
             [
              0.2222222222222222,
              "#7201a8"
             ],
             [
              0.3333333333333333,
              "#9c179e"
             ],
             [
              0.4444444444444444,
              "#bd3786"
             ],
             [
              0.5555555555555556,
              "#d8576b"
             ],
             [
              0.6666666666666666,
              "#ed7953"
             ],
             [
              0.7777777777777778,
              "#fb9f3a"
             ],
             [
              0.8888888888888888,
              "#fdca26"
             ],
             [
              1,
              "#f0f921"
             ]
            ],
            "type": "contour"
           }
          ],
          "contourcarpet": [
           {
            "colorbar": {
             "outlinewidth": 0,
             "ticks": ""
            },
            "type": "contourcarpet"
           }
          ],
          "heatmap": [
           {
            "colorbar": {
             "outlinewidth": 0,
             "ticks": ""
            },
            "colorscale": [
             [
              0,
              "#0d0887"
             ],
             [
              0.1111111111111111,
              "#46039f"
             ],
             [
              0.2222222222222222,
              "#7201a8"
             ],
             [
              0.3333333333333333,
              "#9c179e"
             ],
             [
              0.4444444444444444,
              "#bd3786"
             ],
             [
              0.5555555555555556,
              "#d8576b"
             ],
             [
              0.6666666666666666,
              "#ed7953"
             ],
             [
              0.7777777777777778,
              "#fb9f3a"
             ],
             [
              0.8888888888888888,
              "#fdca26"
             ],
             [
              1,
              "#f0f921"
             ]
            ],
            "type": "heatmap"
           }
          ],
          "heatmapgl": [
           {
            "colorbar": {
             "outlinewidth": 0,
             "ticks": ""
            },
            "colorscale": [
             [
              0,
              "#0d0887"
             ],
             [
              0.1111111111111111,
              "#46039f"
             ],
             [
              0.2222222222222222,
              "#7201a8"
             ],
             [
              0.3333333333333333,
              "#9c179e"
             ],
             [
              0.4444444444444444,
              "#bd3786"
             ],
             [
              0.5555555555555556,
              "#d8576b"
             ],
             [
              0.6666666666666666,
              "#ed7953"
             ],
             [
              0.7777777777777778,
              "#fb9f3a"
             ],
             [
              0.8888888888888888,
              "#fdca26"
             ],
             [
              1,
              "#f0f921"
             ]
            ],
            "type": "heatmapgl"
           }
          ],
          "histogram": [
           {
            "marker": {
             "colorbar": {
              "outlinewidth": 0,
              "ticks": ""
             }
            },
            "type": "histogram"
           }
          ],
          "histogram2d": [
           {
            "colorbar": {
             "outlinewidth": 0,
             "ticks": ""
            },
            "colorscale": [
             [
              0,
              "#0d0887"
             ],
             [
              0.1111111111111111,
              "#46039f"
             ],
             [
              0.2222222222222222,
              "#7201a8"
             ],
             [
              0.3333333333333333,
              "#9c179e"
             ],
             [
              0.4444444444444444,
              "#bd3786"
             ],
             [
              0.5555555555555556,
              "#d8576b"
             ],
             [
              0.6666666666666666,
              "#ed7953"
             ],
             [
              0.7777777777777778,
              "#fb9f3a"
             ],
             [
              0.8888888888888888,
              "#fdca26"
             ],
             [
              1,
              "#f0f921"
             ]
            ],
            "type": "histogram2d"
           }
          ],
          "histogram2dcontour": [
           {
            "colorbar": {
             "outlinewidth": 0,
             "ticks": ""
            },
            "colorscale": [
             [
              0,
              "#0d0887"
             ],
             [
              0.1111111111111111,
              "#46039f"
             ],
             [
              0.2222222222222222,
              "#7201a8"
             ],
             [
              0.3333333333333333,
              "#9c179e"
             ],
             [
              0.4444444444444444,
              "#bd3786"
             ],
             [
              0.5555555555555556,
              "#d8576b"
             ],
             [
              0.6666666666666666,
              "#ed7953"
             ],
             [
              0.7777777777777778,
              "#fb9f3a"
             ],
             [
              0.8888888888888888,
              "#fdca26"
             ],
             [
              1,
              "#f0f921"
             ]
            ],
            "type": "histogram2dcontour"
           }
          ],
          "mesh3d": [
           {
            "colorbar": {
             "outlinewidth": 0,
             "ticks": ""
            },
            "type": "mesh3d"
           }
          ],
          "parcoords": [
           {
            "line": {
             "colorbar": {
              "outlinewidth": 0,
              "ticks": ""
             }
            },
            "type": "parcoords"
           }
          ],
          "pie": [
           {
            "automargin": true,
            "type": "pie"
           }
          ],
          "scatter": [
           {
            "marker": {
             "colorbar": {
              "outlinewidth": 0,
              "ticks": ""
             }
            },
            "type": "scatter"
           }
          ],
          "scatter3d": [
           {
            "line": {
             "colorbar": {
              "outlinewidth": 0,
              "ticks": ""
             }
            },
            "marker": {
             "colorbar": {
              "outlinewidth": 0,
              "ticks": ""
             }
            },
            "type": "scatter3d"
           }
          ],
          "scattercarpet": [
           {
            "marker": {
             "colorbar": {
              "outlinewidth": 0,
              "ticks": ""
             }
            },
            "type": "scattercarpet"
           }
          ],
          "scattergeo": [
           {
            "marker": {
             "colorbar": {
              "outlinewidth": 0,
              "ticks": ""
             }
            },
            "type": "scattergeo"
           }
          ],
          "scattergl": [
           {
            "marker": {
             "colorbar": {
              "outlinewidth": 0,
              "ticks": ""
             }
            },
            "type": "scattergl"
           }
          ],
          "scattermapbox": [
           {
            "marker": {
             "colorbar": {
              "outlinewidth": 0,
              "ticks": ""
             }
            },
            "type": "scattermapbox"
           }
          ],
          "scatterpolar": [
           {
            "marker": {
             "colorbar": {
              "outlinewidth": 0,
              "ticks": ""
             }
            },
            "type": "scatterpolar"
           }
          ],
          "scatterpolargl": [
           {
            "marker": {
             "colorbar": {
              "outlinewidth": 0,
              "ticks": ""
             }
            },
            "type": "scatterpolargl"
           }
          ],
          "scatterternary": [
           {
            "marker": {
             "colorbar": {
              "outlinewidth": 0,
              "ticks": ""
             }
            },
            "type": "scatterternary"
           }
          ],
          "surface": [
           {
            "colorbar": {
             "outlinewidth": 0,
             "ticks": ""
            },
            "colorscale": [
             [
              0,
              "#0d0887"
             ],
             [
              0.1111111111111111,
              "#46039f"
             ],
             [
              0.2222222222222222,
              "#7201a8"
             ],
             [
              0.3333333333333333,
              "#9c179e"
             ],
             [
              0.4444444444444444,
              "#bd3786"
             ],
             [
              0.5555555555555556,
              "#d8576b"
             ],
             [
              0.6666666666666666,
              "#ed7953"
             ],
             [
              0.7777777777777778,
              "#fb9f3a"
             ],
             [
              0.8888888888888888,
              "#fdca26"
             ],
             [
              1,
              "#f0f921"
             ]
            ],
            "type": "surface"
           }
          ],
          "table": [
           {
            "cells": {
             "fill": {
              "color": "#EBF0F8"
             },
             "line": {
              "color": "white"
             }
            },
            "header": {
             "fill": {
              "color": "#C8D4E3"
             },
             "line": {
              "color": "white"
             }
            },
            "type": "table"
           }
          ]
         },
         "layout": {
          "annotationdefaults": {
           "arrowcolor": "#2a3f5f",
           "arrowhead": 0,
           "arrowwidth": 1
          },
          "coloraxis": {
           "colorbar": {
            "outlinewidth": 0,
            "ticks": ""
           }
          },
          "colorscale": {
           "diverging": [
            [
             0,
             "#8e0152"
            ],
            [
             0.1,
             "#c51b7d"
            ],
            [
             0.2,
             "#de77ae"
            ],
            [
             0.3,
             "#f1b6da"
            ],
            [
             0.4,
             "#fde0ef"
            ],
            [
             0.5,
             "#f7f7f7"
            ],
            [
             0.6,
             "#e6f5d0"
            ],
            [
             0.7,
             "#b8e186"
            ],
            [
             0.8,
             "#7fbc41"
            ],
            [
             0.9,
             "#4d9221"
            ],
            [
             1,
             "#276419"
            ]
           ],
           "sequential": [
            [
             0,
             "#0d0887"
            ],
            [
             0.1111111111111111,
             "#46039f"
            ],
            [
             0.2222222222222222,
             "#7201a8"
            ],
            [
             0.3333333333333333,
             "#9c179e"
            ],
            [
             0.4444444444444444,
             "#bd3786"
            ],
            [
             0.5555555555555556,
             "#d8576b"
            ],
            [
             0.6666666666666666,
             "#ed7953"
            ],
            [
             0.7777777777777778,
             "#fb9f3a"
            ],
            [
             0.8888888888888888,
             "#fdca26"
            ],
            [
             1,
             "#f0f921"
            ]
           ],
           "sequentialminus": [
            [
             0,
             "#0d0887"
            ],
            [
             0.1111111111111111,
             "#46039f"
            ],
            [
             0.2222222222222222,
             "#7201a8"
            ],
            [
             0.3333333333333333,
             "#9c179e"
            ],
            [
             0.4444444444444444,
             "#bd3786"
            ],
            [
             0.5555555555555556,
             "#d8576b"
            ],
            [
             0.6666666666666666,
             "#ed7953"
            ],
            [
             0.7777777777777778,
             "#fb9f3a"
            ],
            [
             0.8888888888888888,
             "#fdca26"
            ],
            [
             1,
             "#f0f921"
            ]
           ]
          },
          "colorway": [
           "#636efa",
           "#EF553B",
           "#00cc96",
           "#ab63fa",
           "#FFA15A",
           "#19d3f3",
           "#FF6692",
           "#B6E880",
           "#FF97FF",
           "#FECB52"
          ],
          "font": {
           "color": "#2a3f5f"
          },
          "geo": {
           "bgcolor": "white",
           "lakecolor": "white",
           "landcolor": "#E5ECF6",
           "showlakes": true,
           "showland": true,
           "subunitcolor": "white"
          },
          "hoverlabel": {
           "align": "left"
          },
          "hovermode": "closest",
          "mapbox": {
           "style": "light"
          },
          "paper_bgcolor": "white",
          "plot_bgcolor": "#E5ECF6",
          "polar": {
           "angularaxis": {
            "gridcolor": "white",
            "linecolor": "white",
            "ticks": ""
           },
           "bgcolor": "#E5ECF6",
           "radialaxis": {
            "gridcolor": "white",
            "linecolor": "white",
            "ticks": ""
           }
          },
          "scene": {
           "xaxis": {
            "backgroundcolor": "#E5ECF6",
            "gridcolor": "white",
            "gridwidth": 2,
            "linecolor": "white",
            "showbackground": true,
            "ticks": "",
            "zerolinecolor": "white"
           },
           "yaxis": {
            "backgroundcolor": "#E5ECF6",
            "gridcolor": "white",
            "gridwidth": 2,
            "linecolor": "white",
            "showbackground": true,
            "ticks": "",
            "zerolinecolor": "white"
           },
           "zaxis": {
            "backgroundcolor": "#E5ECF6",
            "gridcolor": "white",
            "gridwidth": 2,
            "linecolor": "white",
            "showbackground": true,
            "ticks": "",
            "zerolinecolor": "white"
           }
          },
          "shapedefaults": {
           "line": {
            "color": "#2a3f5f"
           }
          },
          "ternary": {
           "aaxis": {
            "gridcolor": "white",
            "linecolor": "white",
            "ticks": ""
           },
           "baxis": {
            "gridcolor": "white",
            "linecolor": "white",
            "ticks": ""
           },
           "bgcolor": "#E5ECF6",
           "caxis": {
            "gridcolor": "white",
            "linecolor": "white",
            "ticks": ""
           }
          },
          "title": {
           "x": 0.05
          },
          "xaxis": {
           "automargin": true,
           "gridcolor": "white",
           "linecolor": "white",
           "ticks": "",
           "title": {
            "standoff": 15
           },
           "zerolinecolor": "white",
           "zerolinewidth": 2
          },
          "yaxis": {
           "automargin": true,
           "gridcolor": "white",
           "linecolor": "white",
           "ticks": "",
           "title": {
            "standoff": 15
           },
           "zerolinecolor": "white",
           "zerolinewidth": 2
          }
         }
        },
        "title": {
         "text": "scoped's Average Viewership per Stream Title Keywords"
        },
        "xaxis": {
         "anchor": "y",
         "domain": [
          0,
          1
         ],
         "title": {
          "text": "Category"
         }
        },
        "yaxis": {
         "anchor": "x",
         "domain": [
          0,
          1
         ],
         "title": {
          "text": "Avg_Viewership"
         }
        }
       }
      },
      "text/html": [
       "<div>                            <div id=\"58293674-7684-414a-a2e8-cb3c2790aff3\" class=\"plotly-graph-div\" style=\"height:525px; width:100%;\"></div>            <script type=\"text/javascript\">                require([\"plotly\"], function(Plotly) {                    window.PLOTLYENV=window.PLOTLYENV || {};                                    if (document.getElementById(\"58293674-7684-414a-a2e8-cb3c2790aff3\")) {                    Plotly.newPlot(                        \"58293674-7684-414a-a2e8-cb3c2790aff3\",                        [{\"alignmentgroup\": \"True\", \"hovertemplate\": \"Category=%{x}<br>Avg_Viewership=%{y}<extra></extra>\", \"legendgroup\": \"\", \"marker\": {\"color\": \"#636efa\"}, \"name\": \"\", \"offsetgroup\": \"\", \"orientation\": \"v\", \"showlegend\": false, \"textposition\": \"auto\", \"type\": \"bar\", \"x\": [\"dreamhack\", \"kill\", \"pro\", \"cash\", \"sentinels\", \"solo\", \"subs\", \"cup\", \"scrims\", \"trio\", \"late\", \"high\", \"night\", \"highsky\", \"arena\", \"tuexy\", \"inno\", \"fncs\", \"solos\", \"open\", \"3v3\", \"co1azo\", \"wagers\", \"closed\", \"2v2\"], \"xaxis\": \"x\", \"y\": [6438.443037974684, 5652.767441860465, 5463.651810584958, 5394.939189189189, 5352.472727272727, 5346.892720306513, 5272.948484848484, 5258.3298429319375, 5243.4301994301995, 5134.09842519685, 5052.418181818181, 5047.51, 5037.9098360655735, 5013.1294583883755, 4886.41469816273, 4736.462474645031, 4594.903225806452, 4570.075, 4347.966666666666, 4122.861842105263, 4091.9655172413795, 4065.9646017699115, 3891.8210116731516, 3876.8571428571427, 3839.882716049383], \"yaxis\": \"y\"}],                        {\"barmode\": \"relative\", \"legend\": {\"tracegroupgap\": 0}, \"template\": {\"data\": {\"bar\": [{\"error_x\": {\"color\": \"#2a3f5f\"}, \"error_y\": {\"color\": \"#2a3f5f\"}, \"marker\": {\"line\": {\"color\": \"#E5ECF6\", \"width\": 0.5}}, \"type\": \"bar\"}], \"barpolar\": [{\"marker\": {\"line\": {\"color\": \"#E5ECF6\", \"width\": 0.5}}, \"type\": \"barpolar\"}], \"carpet\": [{\"aaxis\": {\"endlinecolor\": \"#2a3f5f\", \"gridcolor\": \"white\", \"linecolor\": \"white\", \"minorgridcolor\": \"white\", \"startlinecolor\": \"#2a3f5f\"}, \"baxis\": {\"endlinecolor\": \"#2a3f5f\", \"gridcolor\": \"white\", \"linecolor\": \"white\", \"minorgridcolor\": \"white\", \"startlinecolor\": \"#2a3f5f\"}, \"type\": \"carpet\"}], \"choropleth\": [{\"colorbar\": {\"outlinewidth\": 0, \"ticks\": \"\"}, \"type\": \"choropleth\"}], \"contour\": [{\"colorbar\": {\"outlinewidth\": 0, \"ticks\": \"\"}, \"colorscale\": [[0.0, \"#0d0887\"], [0.1111111111111111, \"#46039f\"], [0.2222222222222222, \"#7201a8\"], [0.3333333333333333, \"#9c179e\"], [0.4444444444444444, \"#bd3786\"], [0.5555555555555556, \"#d8576b\"], [0.6666666666666666, \"#ed7953\"], [0.7777777777777778, \"#fb9f3a\"], [0.8888888888888888, \"#fdca26\"], [1.0, \"#f0f921\"]], \"type\": \"contour\"}], \"contourcarpet\": [{\"colorbar\": {\"outlinewidth\": 0, \"ticks\": \"\"}, \"type\": \"contourcarpet\"}], \"heatmap\": [{\"colorbar\": {\"outlinewidth\": 0, \"ticks\": \"\"}, \"colorscale\": [[0.0, \"#0d0887\"], [0.1111111111111111, \"#46039f\"], [0.2222222222222222, \"#7201a8\"], [0.3333333333333333, \"#9c179e\"], [0.4444444444444444, \"#bd3786\"], [0.5555555555555556, \"#d8576b\"], [0.6666666666666666, \"#ed7953\"], [0.7777777777777778, \"#fb9f3a\"], [0.8888888888888888, \"#fdca26\"], [1.0, \"#f0f921\"]], \"type\": \"heatmap\"}], \"heatmapgl\": [{\"colorbar\": {\"outlinewidth\": 0, \"ticks\": \"\"}, \"colorscale\": [[0.0, \"#0d0887\"], [0.1111111111111111, \"#46039f\"], [0.2222222222222222, \"#7201a8\"], [0.3333333333333333, \"#9c179e\"], [0.4444444444444444, \"#bd3786\"], [0.5555555555555556, \"#d8576b\"], [0.6666666666666666, \"#ed7953\"], [0.7777777777777778, \"#fb9f3a\"], [0.8888888888888888, \"#fdca26\"], [1.0, \"#f0f921\"]], \"type\": \"heatmapgl\"}], \"histogram\": [{\"marker\": {\"colorbar\": {\"outlinewidth\": 0, \"ticks\": \"\"}}, \"type\": \"histogram\"}], \"histogram2d\": [{\"colorbar\": {\"outlinewidth\": 0, \"ticks\": \"\"}, \"colorscale\": [[0.0, \"#0d0887\"], [0.1111111111111111, \"#46039f\"], [0.2222222222222222, \"#7201a8\"], [0.3333333333333333, \"#9c179e\"], [0.4444444444444444, \"#bd3786\"], [0.5555555555555556, \"#d8576b\"], [0.6666666666666666, \"#ed7953\"], [0.7777777777777778, \"#fb9f3a\"], [0.8888888888888888, \"#fdca26\"], [1.0, \"#f0f921\"]], \"type\": \"histogram2d\"}], \"histogram2dcontour\": [{\"colorbar\": {\"outlinewidth\": 0, \"ticks\": \"\"}, \"colorscale\": [[0.0, \"#0d0887\"], [0.1111111111111111, \"#46039f\"], [0.2222222222222222, \"#7201a8\"], [0.3333333333333333, \"#9c179e\"], [0.4444444444444444, \"#bd3786\"], [0.5555555555555556, \"#d8576b\"], [0.6666666666666666, \"#ed7953\"], [0.7777777777777778, \"#fb9f3a\"], [0.8888888888888888, \"#fdca26\"], [1.0, \"#f0f921\"]], \"type\": \"histogram2dcontour\"}], \"mesh3d\": [{\"colorbar\": {\"outlinewidth\": 0, \"ticks\": \"\"}, \"type\": \"mesh3d\"}], \"parcoords\": [{\"line\": {\"colorbar\": {\"outlinewidth\": 0, \"ticks\": \"\"}}, \"type\": \"parcoords\"}], \"pie\": [{\"automargin\": true, \"type\": \"pie\"}], \"scatter\": [{\"marker\": {\"colorbar\": {\"outlinewidth\": 0, \"ticks\": \"\"}}, \"type\": \"scatter\"}], \"scatter3d\": [{\"line\": {\"colorbar\": {\"outlinewidth\": 0, \"ticks\": \"\"}}, \"marker\": {\"colorbar\": {\"outlinewidth\": 0, \"ticks\": \"\"}}, \"type\": \"scatter3d\"}], \"scattercarpet\": [{\"marker\": {\"colorbar\": {\"outlinewidth\": 0, \"ticks\": \"\"}}, \"type\": \"scattercarpet\"}], \"scattergeo\": [{\"marker\": {\"colorbar\": {\"outlinewidth\": 0, \"ticks\": \"\"}}, \"type\": \"scattergeo\"}], \"scattergl\": [{\"marker\": {\"colorbar\": {\"outlinewidth\": 0, \"ticks\": \"\"}}, \"type\": \"scattergl\"}], \"scattermapbox\": [{\"marker\": {\"colorbar\": {\"outlinewidth\": 0, \"ticks\": \"\"}}, \"type\": \"scattermapbox\"}], \"scatterpolar\": [{\"marker\": {\"colorbar\": {\"outlinewidth\": 0, \"ticks\": \"\"}}, \"type\": \"scatterpolar\"}], \"scatterpolargl\": [{\"marker\": {\"colorbar\": {\"outlinewidth\": 0, \"ticks\": \"\"}}, \"type\": \"scatterpolargl\"}], \"scatterternary\": [{\"marker\": {\"colorbar\": {\"outlinewidth\": 0, \"ticks\": \"\"}}, \"type\": \"scatterternary\"}], \"surface\": [{\"colorbar\": {\"outlinewidth\": 0, \"ticks\": \"\"}, \"colorscale\": [[0.0, \"#0d0887\"], [0.1111111111111111, \"#46039f\"], [0.2222222222222222, \"#7201a8\"], [0.3333333333333333, \"#9c179e\"], [0.4444444444444444, \"#bd3786\"], [0.5555555555555556, \"#d8576b\"], [0.6666666666666666, \"#ed7953\"], [0.7777777777777778, \"#fb9f3a\"], [0.8888888888888888, \"#fdca26\"], [1.0, \"#f0f921\"]], \"type\": \"surface\"}], \"table\": [{\"cells\": {\"fill\": {\"color\": \"#EBF0F8\"}, \"line\": {\"color\": \"white\"}}, \"header\": {\"fill\": {\"color\": \"#C8D4E3\"}, \"line\": {\"color\": \"white\"}}, \"type\": \"table\"}]}, \"layout\": {\"annotationdefaults\": {\"arrowcolor\": \"#2a3f5f\", \"arrowhead\": 0, \"arrowwidth\": 1}, \"coloraxis\": {\"colorbar\": {\"outlinewidth\": 0, \"ticks\": \"\"}}, \"colorscale\": {\"diverging\": [[0, \"#8e0152\"], [0.1, \"#c51b7d\"], [0.2, \"#de77ae\"], [0.3, \"#f1b6da\"], [0.4, \"#fde0ef\"], [0.5, \"#f7f7f7\"], [0.6, \"#e6f5d0\"], [0.7, \"#b8e186\"], [0.8, \"#7fbc41\"], [0.9, \"#4d9221\"], [1, \"#276419\"]], \"sequential\": [[0.0, \"#0d0887\"], [0.1111111111111111, \"#46039f\"], [0.2222222222222222, \"#7201a8\"], [0.3333333333333333, \"#9c179e\"], [0.4444444444444444, \"#bd3786\"], [0.5555555555555556, \"#d8576b\"], [0.6666666666666666, \"#ed7953\"], [0.7777777777777778, \"#fb9f3a\"], [0.8888888888888888, \"#fdca26\"], [1.0, \"#f0f921\"]], \"sequentialminus\": [[0.0, \"#0d0887\"], [0.1111111111111111, \"#46039f\"], [0.2222222222222222, \"#7201a8\"], [0.3333333333333333, \"#9c179e\"], [0.4444444444444444, \"#bd3786\"], [0.5555555555555556, \"#d8576b\"], [0.6666666666666666, \"#ed7953\"], [0.7777777777777778, \"#fb9f3a\"], [0.8888888888888888, \"#fdca26\"], [1.0, \"#f0f921\"]]}, \"colorway\": [\"#636efa\", \"#EF553B\", \"#00cc96\", \"#ab63fa\", \"#FFA15A\", \"#19d3f3\", \"#FF6692\", \"#B6E880\", \"#FF97FF\", \"#FECB52\"], \"font\": {\"color\": \"#2a3f5f\"}, \"geo\": {\"bgcolor\": \"white\", \"lakecolor\": \"white\", \"landcolor\": \"#E5ECF6\", \"showlakes\": true, \"showland\": true, \"subunitcolor\": \"white\"}, \"hoverlabel\": {\"align\": \"left\"}, \"hovermode\": \"closest\", \"mapbox\": {\"style\": \"light\"}, \"paper_bgcolor\": \"white\", \"plot_bgcolor\": \"#E5ECF6\", \"polar\": {\"angularaxis\": {\"gridcolor\": \"white\", \"linecolor\": \"white\", \"ticks\": \"\"}, \"bgcolor\": \"#E5ECF6\", \"radialaxis\": {\"gridcolor\": \"white\", \"linecolor\": \"white\", \"ticks\": \"\"}}, \"scene\": {\"xaxis\": {\"backgroundcolor\": \"#E5ECF6\", \"gridcolor\": \"white\", \"gridwidth\": 2, \"linecolor\": \"white\", \"showbackground\": true, \"ticks\": \"\", \"zerolinecolor\": \"white\"}, \"yaxis\": {\"backgroundcolor\": \"#E5ECF6\", \"gridcolor\": \"white\", \"gridwidth\": 2, \"linecolor\": \"white\", \"showbackground\": true, \"ticks\": \"\", \"zerolinecolor\": \"white\"}, \"zaxis\": {\"backgroundcolor\": \"#E5ECF6\", \"gridcolor\": \"white\", \"gridwidth\": 2, \"linecolor\": \"white\", \"showbackground\": true, \"ticks\": \"\", \"zerolinecolor\": \"white\"}}, \"shapedefaults\": {\"line\": {\"color\": \"#2a3f5f\"}}, \"ternary\": {\"aaxis\": {\"gridcolor\": \"white\", \"linecolor\": \"white\", \"ticks\": \"\"}, \"baxis\": {\"gridcolor\": \"white\", \"linecolor\": \"white\", \"ticks\": \"\"}, \"bgcolor\": \"#E5ECF6\", \"caxis\": {\"gridcolor\": \"white\", \"linecolor\": \"white\", \"ticks\": \"\"}}, \"title\": {\"x\": 0.05}, \"xaxis\": {\"automargin\": true, \"gridcolor\": \"white\", \"linecolor\": \"white\", \"ticks\": \"\", \"title\": {\"standoff\": 15}, \"zerolinecolor\": \"white\", \"zerolinewidth\": 2}, \"yaxis\": {\"automargin\": true, \"gridcolor\": \"white\", \"linecolor\": \"white\", \"ticks\": \"\", \"title\": {\"standoff\": 15}, \"zerolinecolor\": \"white\", \"zerolinewidth\": 2}}}, \"title\": {\"text\": \"scoped's Average Viewership per Stream Title Keywords\"}, \"xaxis\": {\"anchor\": \"y\", \"domain\": [0.0, 1.0], \"title\": {\"text\": \"Category\"}}, \"yaxis\": {\"anchor\": \"x\", \"domain\": [0.0, 1.0], \"title\": {\"text\": \"Avg_Viewership\"}}},                        {\"responsive\": true}                    ).then(function(){\n",
       "                            \n",
       "var gd = document.getElementById('58293674-7684-414a-a2e8-cb3c2790aff3');\n",
       "var x = new MutationObserver(function (mutations, observer) {{\n",
       "        var display = window.getComputedStyle(gd).display;\n",
       "        if (!display || display === 'none') {{\n",
       "            console.log([gd, 'removed!']);\n",
       "            Plotly.purge(gd);\n",
       "            observer.disconnect();\n",
       "        }}\n",
       "}});\n",
       "\n",
       "// Listen for the removal of the full notebook cells\n",
       "var notebookContainer = gd.closest('#notebook-container');\n",
       "if (notebookContainer) {{\n",
       "    x.observe(notebookContainer, {childList: true});\n",
       "}}\n",
       "\n",
       "// Listen for the clearing of the current output cell\n",
       "var outputEl = gd.closest('.output');\n",
       "if (outputEl) {{\n",
       "    x.observe(outputEl, {childList: true});\n",
       "}}\n",
       "\n",
       "                        })                };                });            </script>        </div>"
      ]
     },
     "metadata": {},
     "output_type": "display_data"
    }
   ],
   "source": [
    "fig = px.bar(x=list(counts_per_word.keys()), y=list(counts_per_word.values()), labels={'x':'Category','y':'Avg_Viewership'},\n",
    "             title=f'{name}\\'s Average Viewership per Stream Title Keywords')\n",
    "fig.show()"
   ]
  },
  {
   "cell_type": "code",
   "execution_count": null,
   "metadata": {},
   "outputs": [],
   "source": []
  }
 ],
 "metadata": {
  "kernelspec": {
   "display_name": "Python 3",
   "language": "python",
   "name": "python3"
  },
  "language_info": {
   "codemirror_mode": {
    "name": "ipython",
    "version": 3
   },
   "file_extension": ".py",
   "mimetype": "text/x-python",
   "name": "python",
   "nbconvert_exporter": "python",
   "pygments_lexer": "ipython3",
   "version": "3.7.6"
  }
 },
 "nbformat": 4,
 "nbformat_minor": 4
}
