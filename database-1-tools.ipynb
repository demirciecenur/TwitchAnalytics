{
 "cells": [
  {
   "cell_type": "code",
   "execution_count": 9,
   "metadata": {},
   "outputs": [],
   "source": [
    "#Current start date: 9/23 2:30PM, scheduled to run 2 months\n",
    "import pandas as pd \n",
    "import pymysql\n",
    "from datetime import datetime\n",
    "from datetime import timedelta\n",
    "import plotly.express as px\n",
    "from RDS_connection import db, user, password"
   ]
  },
  {
   "cell_type": "markdown",
   "metadata": {},
   "source": [
    "# Tools to query from database-1"
   ]
  },
  {
   "cell_type": "code",
   "execution_count": 10,
   "metadata": {},
   "outputs": [
    {
     "data": {
      "text/plain": [
       "0"
      ]
     },
     "execution_count": 10,
     "metadata": {},
     "output_type": "execute_result"
    }
   ],
   "source": [
    "db = pymysql.connect(db, user, password)\n",
    "cursor = db.cursor()\n",
    "\n",
    "sql = '''use Streams'''\n",
    "cursor.execute(sql)"
   ]
  },
  {
   "cell_type": "code",
   "execution_count": 11,
   "metadata": {},
   "outputs": [],
   "source": [
    "query = '''\n",
    "SELECT * FROM Streams\n",
    "'''\n",
    "#cursor.execute(query)"
   ]
  },
  {
   "cell_type": "code",
   "execution_count": 12,
   "metadata": {},
   "outputs": [],
   "source": [
    "df = pd.read_sql(query, db, index_col='ID')"
   ]
  },
  {
   "cell_type": "code",
   "execution_count": 13,
   "metadata": {},
   "outputs": [],
   "source": [
    "#always run this after use\n",
    "db.commit()\n",
    "cursor.close()\n",
    "db.close()"
   ]
  },
  {
   "cell_type": "code",
   "execution_count": 14,
   "metadata": {},
   "outputs": [
    {
     "data": {
      "text/html": [
       "<div>\n",
       "<style scoped>\n",
       "    .dataframe tbody tr th:only-of-type {\n",
       "        vertical-align: middle;\n",
       "    }\n",
       "\n",
       "    .dataframe tbody tr th {\n",
       "        vertical-align: top;\n",
       "    }\n",
       "\n",
       "    .dataframe thead th {\n",
       "        text-align: right;\n",
       "    }\n",
       "</style>\n",
       "<table border=\"1\" class=\"dataframe\">\n",
       "  <thead>\n",
       "    <tr style=\"text-align: right;\">\n",
       "      <th></th>\n",
       "      <th>Name</th>\n",
       "      <th>TimestampUTC</th>\n",
       "      <th>CurrentGameID</th>\n",
       "      <th>StreamTitle</th>\n",
       "      <th>ViewerCount</th>\n",
       "      <th>StarttimeUTC</th>\n",
       "    </tr>\n",
       "    <tr>\n",
       "      <th>ID</th>\n",
       "      <th></th>\n",
       "      <th></th>\n",
       "      <th></th>\n",
       "      <th></th>\n",
       "      <th></th>\n",
       "      <th></th>\n",
       "    </tr>\n",
       "  </thead>\n",
       "  <tbody>\n",
       "    <tr>\n",
       "      <th>0</th>\n",
       "      <td>sypherpk</td>\n",
       "      <td>2020-09-24 20:16:02</td>\n",
       "      <td>33214</td>\n",
       "      <td>Grind DONT STOP! | @SypherPK | ?</td>\n",
       "      <td>6101</td>\n",
       "      <td>2020-09-24 15:59:28</td>\n",
       "    </tr>\n",
       "    <tr>\n",
       "      <th>1</th>\n",
       "      <td>solaryfortnite</td>\n",
       "      <td>2020-09-24 20:16:02</td>\n",
       "      <td>33214</td>\n",
       "      <td>OES 2020 OPEN TRIO (3000€) : CAST YOSHI</td>\n",
       "      <td>3856</td>\n",
       "      <td>2020-09-24 10:56:58</td>\n",
       "    </tr>\n",
       "    <tr>\n",
       "      <th>2</th>\n",
       "      <td>raulzitoyt</td>\n",
       "      <td>2020-09-24 20:16:02</td>\n",
       "      <td>33214</td>\n",
       "      <td>Dazz Cash CUP | !Sorteio PS5 | FARM 15x - SUB ...</td>\n",
       "      <td>1554</td>\n",
       "      <td>2020-09-23 00:01:34</td>\n",
       "    </tr>\n",
       "    <tr>\n",
       "      <th>3</th>\n",
       "      <td>blxckoutz</td>\n",
       "      <td>2020-09-24 20:16:03</td>\n",
       "      <td>33214</td>\n",
       "      <td>AO VIVO: CAMP DA GC TRIO I !VIDEO I !SORTEIO I...</td>\n",
       "      <td>3311</td>\n",
       "      <td>2020-09-24 20:07:05</td>\n",
       "    </tr>\n",
       "    <tr>\n",
       "      <th>4</th>\n",
       "      <td>zeko</td>\n",
       "      <td>2020-09-24 20:16:03</td>\n",
       "      <td>33214</td>\n",
       "      <td>TORNEO TRIO GC | Code ZEKO #AD | !redes</td>\n",
       "      <td>6401</td>\n",
       "      <td>2020-09-24 20:01:27</td>\n",
       "    </tr>\n",
       "  </tbody>\n",
       "</table>\n",
       "</div>"
      ],
      "text/plain": [
       "              Name         TimestampUTC CurrentGameID  \\\n",
       "ID                                                      \n",
       "0         sypherpk  2020-09-24 20:16:02         33214   \n",
       "1   solaryfortnite  2020-09-24 20:16:02         33214   \n",
       "2       raulzitoyt  2020-09-24 20:16:02         33214   \n",
       "3        blxckoutz  2020-09-24 20:16:03         33214   \n",
       "4             zeko  2020-09-24 20:16:03         33214   \n",
       "\n",
       "                                          StreamTitle  ViewerCount  \\\n",
       "ID                                                                   \n",
       "0                    Grind DONT STOP! | @SypherPK | ?         6101   \n",
       "1             OES 2020 OPEN TRIO (3000€) : CAST YOSHI         3856   \n",
       "2   Dazz Cash CUP | !Sorteio PS5 | FARM 15x - SUB ...         1554   \n",
       "3   AO VIVO: CAMP DA GC TRIO I !VIDEO I !SORTEIO I...         3311   \n",
       "4             TORNEO TRIO GC | Code ZEKO #AD | !redes         6401   \n",
       "\n",
       "           StarttimeUTC  \n",
       "ID                       \n",
       "0   2020-09-24 15:59:28  \n",
       "1   2020-09-24 10:56:58  \n",
       "2   2020-09-23 00:01:34  \n",
       "3   2020-09-24 20:07:05  \n",
       "4   2020-09-24 20:01:27  "
      ]
     },
     "execution_count": 14,
     "metadata": {},
     "output_type": "execute_result"
    }
   ],
   "source": [
    "df.head()"
   ]
  },
  {
   "cell_type": "code",
   "execution_count": 7,
   "metadata": {},
   "outputs": [],
   "source": [
    "#df.to_csv('RDS_snapshot_10-23-20')"
   ]
  },
  {
   "cell_type": "markdown",
   "metadata": {},
   "source": [
    "# Tools to modify database / tables"
   ]
  },
  {
   "cell_type": "code",
   "execution_count": 110,
   "metadata": {},
   "outputs": [
    {
     "data": {
      "text/plain": [
       "0"
      ]
     },
     "execution_count": 110,
     "metadata": {},
     "output_type": "execute_result"
    }
   ],
   "source": [
    "db = pymysql.connect('database-1.cfcym0vwtoiw.us-east-1.rds.amazonaws.com', 'admin', 'EulerDickson2140$')\n",
    "cursor = db.cursor()\n",
    "\n",
    "sql = '''use Streams'''\n",
    "cursor.execute(sql)"
   ]
  },
  {
   "cell_type": "code",
   "execution_count": 111,
   "metadata": {},
   "outputs": [
    {
     "data": {
      "text/plain": [
       "0"
      ]
     },
     "execution_count": 111,
     "metadata": {},
     "output_type": "execute_result"
    }
   ],
   "source": [
    "sql = \"DROP TABLE Streams\"\n",
    "cursor.execute(sql)"
   ]
  },
  {
   "cell_type": "code",
   "execution_count": 112,
   "metadata": {},
   "outputs": [],
   "source": [
    "#Create Database\n",
    "sql = '''create database Streams'''\n",
    "#cursor.execute(sql)\n",
    "#cursor.connection.commit()"
   ]
  },
  {
   "cell_type": "code",
   "execution_count": 113,
   "metadata": {},
   "outputs": [
    {
     "data": {
      "text/plain": [
       "0"
      ]
     },
     "execution_count": 113,
     "metadata": {},
     "output_type": "execute_result"
    }
   ],
   "source": [
    "#Create Table\n",
    "create_table_query = '''CREATE TABLE Streams (\n",
    "    ID int NOT NULL,\n",
    "    Name varchar(45) COLLATE utf8_bin NOT NULL,\n",
    "    TimestampUTC varchar(45) NOT NULL,\n",
    "    CurrentGameID varchar(45) NOT NULL,\n",
    "    StreamTitle varchar(255) NOT NULL,\n",
    "    ViewerCount int(10) NOT NULL,\n",
    "    StarttimeUTC varchar(45),\n",
    "    PRIMARY KEY (ID)\n",
    ") ENGINE=InnoDB DEFAULT CHARSET=utf8 COLLATE=utf8_bin\n",
    "AUTO_INCREMENT=1;'''\n",
    "\n",
    "cursor.execute(create_table_query)"
   ]
  },
  {
   "cell_type": "code",
   "execution_count": 114,
   "metadata": {},
   "outputs": [],
   "source": [
    "#always run this after use\n",
    "db.commit()\n",
    "cursor.close()\n",
    "db.close()"
   ]
  },
  {
   "cell_type": "code",
   "execution_count": null,
   "metadata": {},
   "outputs": [],
   "source": []
  }
 ],
 "metadata": {
  "kernelspec": {
   "display_name": "Python 3",
   "language": "python",
   "name": "python3"
  },
  "language_info": {
   "codemirror_mode": {
    "name": "ipython",
    "version": 3
   },
   "file_extension": ".py",
   "mimetype": "text/x-python",
   "name": "python",
   "nbconvert_exporter": "python",
   "pygments_lexer": "ipython3",
   "version": "3.7.6"
  }
 },
 "nbformat": 4,
 "nbformat_minor": 4
}
